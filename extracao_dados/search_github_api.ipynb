{
 "cells": [
  {
   "cell_type": "markdown",
   "metadata": {},
   "source": [
    "## Entendendo como extrair informações sobre repositórios no github\n",
    "\n",
    "[Search](https://developer.github.com/v3/search/)\n",
    "[Searching for repositories](https://help.github.com/en/articles/searching-for-repositories#search-by-repository-name-description-or-contents-of-the-readme-file)\n",
    "\n",
    "\n",
    "Lista de qualifiers:  https://help.github.com/en/articles/searching-code\n",
    "Documentação para search: https://developer.github.com/v3/search/"
   ]
  },
  {
   "cell_type": "code",
   "execution_count": 197,
   "metadata": {
    "collapsed": true
   },
   "outputs": [],
   "source": [
    "import requests\n",
    "import pandas as pd"
   ]
  },
  {
   "cell_type": "markdown",
   "metadata": {},
   "source": [
    "Montando url de busca para os repositórios com maior quantidade de estrelas.\n",
    "Usando como consulta stars:>1 para indicar que são todos os repositorios acima de 1 estrela, o que não tem impacto negativo para a busca pois existem certa de 3.305.358 repositórios e só vamos analisar 2.500."
   ]
  },
  {
   "cell_type": "code",
   "execution_count": 198,
   "metadata": {},
   "outputs": [
    {
     "data": {
      "text/plain": [
       "'https://api.github.com/search/repositories?q=stars:>1&sort=stars&order=desc'"
      ]
     },
     "execution_count": 198,
     "metadata": {},
     "output_type": "execute_result"
    }
   ],
   "source": [
    "q = 'q=stars:>1'\n",
    "sort = '&sort=stars&order=desc'\n",
    "url_base = 'https://api.github.com/search/repositories?'\n",
    "url_final = url_base+q+sort\n",
    "url_final"
   ]
  },
  {
   "cell_type": "code",
   "execution_count": 199,
   "metadata": {
    "collapsed": true
   },
   "outputs": [],
   "source": [
    "colunas=['owner_type', \n",
    "           'owner_url',\n",
    "           'owner_html_url',\n",
    "           'html_url',\n",
    "           'url',\n",
    "           'fork',\n",
    "           'created_at',\n",
    "           'updated_at',\n",
    "           'size',\n",
    "           'stargazers_count',\n",
    "           'language',\n",
    "           'has_issues',\n",
    "           'has_wiki',\n",
    "           'forks_count',\n",
    "           'forks',\n",
    "           'open_issues',\n",
    "           'watchers']"
   ]
  },
  {
   "cell_type": "code",
   "execution_count": 200,
   "metadata": {},
   "outputs": [
    {
     "data": {
      "text/html": [
       "<div>\n",
       "<style scoped>\n",
       "    .dataframe tbody tr th:only-of-type {\n",
       "        vertical-align: middle;\n",
       "    }\n",
       "\n",
       "    .dataframe tbody tr th {\n",
       "        vertical-align: top;\n",
       "    }\n",
       "\n",
       "    .dataframe thead th {\n",
       "        text-align: right;\n",
       "    }\n",
       "</style>\n",
       "<table border=\"1\" class=\"dataframe\">\n",
       "  <thead>\n",
       "    <tr style=\"text-align: right;\">\n",
       "      <th></th>\n",
       "      <th>owner_type</th>\n",
       "      <th>owner_url</th>\n",
       "      <th>owner_html_url</th>\n",
       "      <th>html_url</th>\n",
       "      <th>url</th>\n",
       "      <th>fork</th>\n",
       "      <th>created_at</th>\n",
       "      <th>updated_at</th>\n",
       "      <th>size</th>\n",
       "      <th>stargazers_count</th>\n",
       "      <th>language</th>\n",
       "      <th>has_issues</th>\n",
       "      <th>has_wiki</th>\n",
       "      <th>forks_count</th>\n",
       "      <th>forks</th>\n",
       "      <th>open_issues</th>\n",
       "      <th>watchers</th>\n",
       "      <th>commits</th>\n",
       "      <th>contributors</th>\n",
       "      <th>readme</th>\n",
       "    </tr>\n",
       "  </thead>\n",
       "  <tbody>\n",
       "  </tbody>\n",
       "</table>\n",
       "</div>"
      ],
      "text/plain": [
       "Empty DataFrame\n",
       "Columns: [owner_type, owner_url, owner_html_url, html_url, url, fork, created_at, updated_at, size, stargazers_count, language, has_issues, has_wiki, forks_count, forks, open_issues, watchers, commits, contributors, readme]\n",
       "Index: []"
      ]
     },
     "execution_count": 200,
     "metadata": {},
     "output_type": "execute_result"
    }
   ],
   "source": [
    "resultados = pd.DataFrame(columns=['owner_type', \n",
    "                                   'owner_url',\n",
    "                                   'owner_html_url',\n",
    "                                   'html_url',\n",
    "                                   'url',\n",
    "                                   'fork',\n",
    "                                   'created_at',\n",
    "                                   'updated_at',\n",
    "                                   'size',\n",
    "                                   'stargazers_count',\n",
    "                                   'language',\n",
    "                                   'has_issues',\n",
    "                                   'has_wiki',\n",
    "                                   'forks_count',\n",
    "                                   'forks',\n",
    "                                   'open_issues',\n",
    "                                   'watchers',\n",
    "                                   'commits',\n",
    "                                   'contributors',\n",
    "                                   'readme',])\n",
    "resultados.head()"
   ]
  },
  {
   "cell_type": "code",
   "execution_count": 201,
   "metadata": {
    "collapsed": true
   },
   "outputs": [],
   "source": [
    "def add_resultado(item):\n",
    "    df = pd.DataFrame([[\n",
    "                        item.get('owner').get('type', None),\n",
    "                        item.get('owner').get('url', None),\n",
    "                        item.get('owner').get('html_url', None),\n",
    "                        item.get('html_url', None),\n",
    "                        item.get('url', None),\n",
    "                        item.get('fork', None),\n",
    "                        item.get('created_at', None),\n",
    "                        item.get('updated_at', None),\n",
    "                        item.get('size', None),\n",
    "                        item.get('stargazers_count', None),\n",
    "                        item.get('language', None),\n",
    "                        item.get('has_issues', None),\n",
    "                        item.get('has_wiki', None),\n",
    "                        item.get('forks_count', None),\n",
    "                        item.get('forks', None),\n",
    "                        item.get('open_issues', None),\n",
    "                        item.get('watchers', None)\n",
    "                    ]], columns=colunas)\n",
    "\n",
    "    return df    "
   ]
  },
  {
   "cell_type": "code",
   "execution_count": 202,
   "metadata": {
    "collapsed": true
   },
   "outputs": [],
   "source": [
    "def extrair_dados(data, resultados):\n",
    "    for item in data.get('items', None):\n",
    "        resultados = pd.concat([resultados, add_resultado(item)], ignore_index=True, sort=False)\n",
    "        \n",
    "    return resultados"
   ]
  },
  {
   "cell_type": "code",
   "execution_count": 203,
   "metadata": {},
   "outputs": [],
   "source": [
    "def get_total_paginas(data):\n",
    "    \n",
    "    itens_por_pagina = len(data.get('items'))\n",
    "    total_paginas = data.get('total_count') // itens_por_pagina # opreração de div em python\n",
    "    total_paginas\n",
    "\n",
    "    print('Total de registros:{0} , Registros por página:{1}, Total de Páginas:{2}'.format(\n",
    "        data.get('total_count'), itens_por_pagina, total_paginas))\n",
    "    \n",
    "    return total_paginas        "
   ]
  },
  {
   "cell_type": "code",
   "execution_count": 207,
   "metadata": {},
   "outputs": [],
   "source": [
    "def percorrendo_paginas(url):\n",
    "    \n",
    "    resultados = pd.DataFrame(columns=['owner_type', \n",
    "                                   'owner_url',\n",
    "                                   'owner_html_url',\n",
    "                                   'html_url',\n",
    "                                   'url',\n",
    "                                   'fork',\n",
    "                                   'created_at',\n",
    "                                   'updated_at',\n",
    "                                   'size',\n",
    "                                   'stargazers_count',\n",
    "                                   'language',\n",
    "                                   'has_issues',\n",
    "                                   'has_wiki',\n",
    "                                   'forks_count',\n",
    "                                   'forks',\n",
    "                                   'open_issues',\n",
    "                                   'watchers',\n",
    "                                   'commits',\n",
    "                                   'contributors',\n",
    "                                   'readme',])\n",
    "    \n",
    "    results = requests.get(url)    \n",
    "    data = dict(results.json())\n",
    "    extrair_dados(data, resultados)\n",
    "\n",
    "    # iteracoes = get_total_paginas(data)\n",
    "    iteracoes = 84 # Para pegar em torno de 2500 registros, semelhante ao artigo original\n",
    "    \n",
    "    for iteracao in range(1, 10):\n",
    "        print('Extraindo página:{0}'.format(iteracao))\n",
    "        \n",
    "        header = dict(results.links)\n",
    "        next_url = header.get('next').get('url')\n",
    "        \n",
    "        results = requests.get(next_url)\n",
    "        print('Status:{0}'.format(results))\n",
    "        \n",
    "        data = dict(results.json())\n",
    "        print('Data keys:{0}'.format(data.keys()))\n",
    "            \n",
    "        resultados = extrair_dados(data, resultados)\n",
    "        \n",
    "    return resultados"
   ]
  },
  {
   "cell_type": "code",
   "execution_count": 208,
   "metadata": {},
   "outputs": [
    {
     "name": "stdout",
     "output_type": "stream",
     "text": [
      "Extraindo página:1\n",
      "Status:<Response [200]>\n",
      "Data keys:dict_keys(['total_count', 'incomplete_results', 'items'])\n",
      "Extraindo página:2\n",
      "Status:<Response [200]>\n",
      "Data keys:dict_keys(['total_count', 'incomplete_results', 'items'])\n",
      "Extraindo página:3\n",
      "Status:<Response [200]>\n",
      "Data keys:dict_keys(['total_count', 'incomplete_results', 'items'])\n",
      "Extraindo página:4\n",
      "Status:<Response [200]>\n",
      "Data keys:dict_keys(['total_count', 'incomplete_results', 'items'])\n",
      "Extraindo página:5\n",
      "Status:<Response [200]>\n",
      "Data keys:dict_keys(['total_count', 'incomplete_results', 'items'])\n",
      "Extraindo página:6\n",
      "Status:<Response [200]>\n",
      "Data keys:dict_keys(['total_count', 'incomplete_results', 'items'])\n",
      "Extraindo página:7\n",
      "Status:<Response [200]>\n",
      "Data keys:dict_keys(['total_count', 'incomplete_results', 'items'])\n",
      "Extraindo página:8\n",
      "Status:<Response [200]>\n",
      "Data keys:dict_keys(['total_count', 'incomplete_results', 'items'])\n",
      "Extraindo página:9\n",
      "Status:<Response [200]>\n",
      "Data keys:dict_keys(['total_count', 'incomplete_results', 'items'])\n"
     ]
    }
   ],
   "source": [
    "resultados = percorrendo_paginas(url_final)"
   ]
  },
  {
   "cell_type": "code",
   "execution_count": 209,
   "metadata": {},
   "outputs": [
    {
     "data": {
      "text/html": [
       "<div>\n",
       "<style scoped>\n",
       "    .dataframe tbody tr th:only-of-type {\n",
       "        vertical-align: middle;\n",
       "    }\n",
       "\n",
       "    .dataframe tbody tr th {\n",
       "        vertical-align: top;\n",
       "    }\n",
       "\n",
       "    .dataframe thead th {\n",
       "        text-align: right;\n",
       "    }\n",
       "</style>\n",
       "<table border=\"1\" class=\"dataframe\">\n",
       "  <thead>\n",
       "    <tr style=\"text-align: right;\">\n",
       "      <th></th>\n",
       "      <th>owner_type</th>\n",
       "      <th>owner_url</th>\n",
       "      <th>owner_html_url</th>\n",
       "      <th>html_url</th>\n",
       "      <th>url</th>\n",
       "      <th>fork</th>\n",
       "      <th>created_at</th>\n",
       "      <th>updated_at</th>\n",
       "      <th>size</th>\n",
       "      <th>stargazers_count</th>\n",
       "      <th>language</th>\n",
       "      <th>has_issues</th>\n",
       "      <th>has_wiki</th>\n",
       "      <th>forks_count</th>\n",
       "      <th>forks</th>\n",
       "      <th>open_issues</th>\n",
       "      <th>watchers</th>\n",
       "      <th>commits</th>\n",
       "      <th>contributors</th>\n",
       "      <th>readme</th>\n",
       "    </tr>\n",
       "  </thead>\n",
       "  <tbody>\n",
       "    <tr>\n",
       "      <th>count</th>\n",
       "      <td>270</td>\n",
       "      <td>270</td>\n",
       "      <td>270</td>\n",
       "      <td>270</td>\n",
       "      <td>270</td>\n",
       "      <td>270</td>\n",
       "      <td>270</td>\n",
       "      <td>270</td>\n",
       "      <td>270</td>\n",
       "      <td>270</td>\n",
       "      <td>232</td>\n",
       "      <td>270</td>\n",
       "      <td>270</td>\n",
       "      <td>270</td>\n",
       "      <td>270</td>\n",
       "      <td>270</td>\n",
       "      <td>270</td>\n",
       "      <td>0.0</td>\n",
       "      <td>0.0</td>\n",
       "      <td>0.0</td>\n",
       "    </tr>\n",
       "    <tr>\n",
       "      <th>unique</th>\n",
       "      <td>2</td>\n",
       "      <td>252</td>\n",
       "      <td>252</td>\n",
       "      <td>270</td>\n",
       "      <td>270</td>\n",
       "      <td>1</td>\n",
       "      <td>270</td>\n",
       "      <td>258</td>\n",
       "      <td>269</td>\n",
       "      <td>267</td>\n",
       "      <td>27</td>\n",
       "      <td>2</td>\n",
       "      <td>2</td>\n",
       "      <td>269</td>\n",
       "      <td>269</td>\n",
       "      <td>222</td>\n",
       "      <td>267</td>\n",
       "      <td>0.0</td>\n",
       "      <td>0.0</td>\n",
       "      <td>0.0</td>\n",
       "    </tr>\n",
       "    <tr>\n",
       "      <th>top</th>\n",
       "      <td>Organization</td>\n",
       "      <td>https://api.github.com/users/apache</td>\n",
       "      <td>https://github.com/apache</td>\n",
       "      <td>https://github.com/gitlabhq/gitlabhq</td>\n",
       "      <td>https://api.github.com/repos/godotengine/godot</td>\n",
       "      <td>False</td>\n",
       "      <td>2014-10-16T18:29:12Z</td>\n",
       "      <td>2019-06-25T15:10:21Z</td>\n",
       "      <td>440</td>\n",
       "      <td>22225</td>\n",
       "      <td>JavaScript</td>\n",
       "      <td>True</td>\n",
       "      <td>True</td>\n",
       "      <td>3445</td>\n",
       "      <td>3445</td>\n",
       "      <td>7</td>\n",
       "      <td>22225</td>\n",
       "      <td>NaN</td>\n",
       "      <td>NaN</td>\n",
       "      <td>NaN</td>\n",
       "    </tr>\n",
       "    <tr>\n",
       "      <th>freq</th>\n",
       "      <td>170</td>\n",
       "      <td>4</td>\n",
       "      <td>4</td>\n",
       "      <td>1</td>\n",
       "      <td>1</td>\n",
       "      <td>270</td>\n",
       "      <td>1</td>\n",
       "      <td>5</td>\n",
       "      <td>2</td>\n",
       "      <td>2</td>\n",
       "      <td>86</td>\n",
       "      <td>253</td>\n",
       "      <td>163</td>\n",
       "      <td>2</td>\n",
       "      <td>2</td>\n",
       "      <td>4</td>\n",
       "      <td>2</td>\n",
       "      <td>NaN</td>\n",
       "      <td>NaN</td>\n",
       "      <td>NaN</td>\n",
       "    </tr>\n",
       "  </tbody>\n",
       "</table>\n",
       "</div>"
      ],
      "text/plain": [
       "          owner_type                            owner_url  \\\n",
       "count            270                                  270   \n",
       "unique             2                                  252   \n",
       "top     Organization  https://api.github.com/users/apache   \n",
       "freq             170                                    4   \n",
       "\n",
       "                   owner_html_url                              html_url  \\\n",
       "count                         270                                   270   \n",
       "unique                        252                                   270   \n",
       "top     https://github.com/apache  https://github.com/gitlabhq/gitlabhq   \n",
       "freq                            4                                     1   \n",
       "\n",
       "                                                   url   fork  \\\n",
       "count                                              270    270   \n",
       "unique                                             270      1   \n",
       "top     https://api.github.com/repos/godotengine/godot  False   \n",
       "freq                                                 1    270   \n",
       "\n",
       "                  created_at            updated_at  size  stargazers_count  \\\n",
       "count                    270                   270   270               270   \n",
       "unique                   270                   258   269               267   \n",
       "top     2014-10-16T18:29:12Z  2019-06-25T15:10:21Z   440             22225   \n",
       "freq                       1                     5     2                 2   \n",
       "\n",
       "          language has_issues has_wiki  forks_count  forks  open_issues  \\\n",
       "count          232        270      270          270    270          270   \n",
       "unique          27          2        2          269    269          222   \n",
       "top     JavaScript       True     True         3445   3445            7   \n",
       "freq            86        253      163            2      2            4   \n",
       "\n",
       "        watchers  commits  contributors  readme  \n",
       "count        270      0.0           0.0     0.0  \n",
       "unique       267      0.0           0.0     0.0  \n",
       "top        22225      NaN           NaN     NaN  \n",
       "freq           2      NaN           NaN     NaN  "
      ]
     },
     "execution_count": 209,
     "metadata": {},
     "output_type": "execute_result"
    }
   ],
   "source": [
    "resultados.describe()"
   ]
  },
  {
   "cell_type": "code",
   "execution_count": 210,
   "metadata": {
    "collapsed": true
   },
   "outputs": [],
   "source": [
    "resultados.to_csv('../dados/repositorios.csv', index=False)"
   ]
  },
  {
   "cell_type": "code",
   "execution_count": 211,
   "metadata": {},
   "outputs": [
    {
     "data": {
      "text/plain": [
       "array(['owner_type', 'owner_url', 'owner_html_url', 'html_url', 'url',\n",
       "       'fork', 'created_at', 'updated_at', 'size', 'stargazers_count',\n",
       "       'language', 'has_issues', 'has_wiki', 'forks_count', 'forks',\n",
       "       'open_issues', 'watchers', 'commits', 'contributors', 'readme'], dtype=object)"
      ]
     },
     "execution_count": 211,
     "metadata": {},
     "output_type": "execute_result"
    }
   ],
   "source": [
    "resultados.columns.values"
   ]
  }
 ],
 "metadata": {
  "kernelspec": {
   "display_name": "Python 3",
   "language": "python",
   "name": "python3"
  },
  "language_info": {
   "codemirror_mode": {
    "name": "ipython",
    "version": 3
   },
   "file_extension": ".py",
   "mimetype": "text/x-python",
   "name": "python",
   "nbconvert_exporter": "python",
   "pygments_lexer": "ipython3",
   "version": "3.6.3"
  }
 },
 "nbformat": 4,
 "nbformat_minor": 2
}
