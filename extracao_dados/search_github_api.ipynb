{
 "cells": [
  {
   "cell_type": "markdown",
   "metadata": {},
   "source": [
    "## Entendendo como extrair informações sobre repositórios no github\n",
    "\n",
    "[Search](https://developer.github.com/v3/search/)\n",
    "[Searching for repositories](https://help.github.com/en/articles/searching-for-repositories#search-by-repository-name-description-or-contents-of-the-readme-file)"
   ]
  },
  {
   "cell_type": "markdown",
   "metadata": {},
   "source": [
    "### Lista de qualifiers:  https://help.github.com/en/articles/searching-code\n",
    "### Documentação para search: https://developer.github.com/v3/search/"
   ]
  },
  {
   "cell_type": "code",
   "execution_count": 27,
   "metadata": {
    "collapsed": true
   },
   "outputs": [],
   "source": [
    "import requests\n",
    "import pandas as pd"
   ]
  },
  {
   "cell_type": "markdown",
   "metadata": {},
   "source": [
    "Montando url de busca para os repositórios com maior quantidade de estrelas.\n",
    "Usando como consulta stars:>1 para indicar que são todos os repositorios acima de 1 estrela, o que não tem impacto negativo para a busca pois existem certa de 3.305.358 repositórios e só vamos analisar 2.500."
   ]
  },
  {
   "cell_type": "code",
   "execution_count": 4,
   "metadata": {},
   "outputs": [
    {
     "data": {
      "text/plain": [
       "'https://api.github.com/search/repositories?q=stars:>1&sort=stars&order=desc'"
      ]
     },
     "execution_count": 4,
     "metadata": {},
     "output_type": "execute_result"
    }
   ],
   "source": [
    "q = 'q=stars:>1'\n",
    "sort = '&sort=stars&order=desc'\n",
    "url_base = 'https://api.github.com/search/repositories?'\n",
    "url_final = url_base+q+sort\n",
    "url_final"
   ]
  },
  {
   "cell_type": "code",
   "execution_count": 5,
   "metadata": {
    "collapsed": true
   },
   "outputs": [],
   "source": [
    "def percorrendo_paginas(url):\n",
    "    \n",
    "    results = requests.get(url_final)\n",
    "    \n",
    "    data = dict(results.json())\n",
    "    data.keys()\n",
    "    \n",
    "    header = dict(results.links)\n",
    "    header.keys()\n",
    "\n",
    "    data.get('total_count')\n",
    "\n",
    "    itens_por_pagina = len(data.get('items'))\n",
    "    itens_por_pagina\n",
    "\n",
    "    total_paginas = data.get('total_count') // itens_por_pagina # opreração de div em python\n",
    "    total_paginas\n",
    "\n",
    "    next_url = header.get('next').get('url')"
   ]
  },
  {
   "cell_type": "code",
   "execution_count": 6,
   "metadata": {
    "collapsed": true
   },
   "outputs": [],
   "source": [
    "results = requests.get(url_final)"
   ]
  },
  {
   "cell_type": "code",
   "execution_count": 122,
   "metadata": {},
   "outputs": [
    {
     "data": {
      "text/html": [
       "<div>\n",
       "<style scoped>\n",
       "    .dataframe tbody tr th:only-of-type {\n",
       "        vertical-align: middle;\n",
       "    }\n",
       "\n",
       "    .dataframe tbody tr th {\n",
       "        vertical-align: top;\n",
       "    }\n",
       "\n",
       "    .dataframe thead th {\n",
       "        text-align: right;\n",
       "    }\n",
       "</style>\n",
       "<table border=\"1\" class=\"dataframe\">\n",
       "  <thead>\n",
       "    <tr style=\"text-align: right;\">\n",
       "      <th></th>\n",
       "      <th>owner_type</th>\n",
       "      <th>owner_urlowner_html_url</th>\n",
       "      <th>html_url</th>\n",
       "      <th>url</th>\n",
       "      <th>fork</th>\n",
       "      <th>created_at</th>\n",
       "      <th>updated_at</th>\n",
       "      <th>size</th>\n",
       "      <th>stargazers_count</th>\n",
       "      <th>language</th>\n",
       "      <th>has_issues</th>\n",
       "      <th>has_wiki</th>\n",
       "      <th>forks_count</th>\n",
       "      <th>forks</th>\n",
       "      <th>open_issues</th>\n",
       "      <th>watchers</th>\n",
       "      <th>commits</th>\n",
       "      <th>contributors</th>\n",
       "      <th>readme</th>\n",
       "    </tr>\n",
       "  </thead>\n",
       "  <tbody>\n",
       "  </tbody>\n",
       "</table>\n",
       "</div>"
      ],
      "text/plain": [
       "Empty DataFrame\n",
       "Columns: [owner_type, owner_urlowner_html_url, html_url, url, fork, created_at, updated_at, size, stargazers_count, language, has_issues, has_wiki, forks_count, forks, open_issues, watchers, commits, contributors, readme]\n",
       "Index: []"
      ]
     },
     "execution_count": 122,
     "metadata": {},
     "output_type": "execute_result"
    }
   ],
   "source": [
    "resultados = pd.DataFrame(columns=['owner_type', \n",
    "                                   'owner_url'\n",
    "                                   'owner_html_url',\n",
    "                                   'html_url',\n",
    "                                   'url',\n",
    "                                   'fork',\n",
    "                                   'created_at',\n",
    "                                   'updated_at',\n",
    "                                   'size',\n",
    "                                   'stargazers_count',\n",
    "                                   'language',\n",
    "                                   'has_issues',\n",
    "                                   'has_wiki',\n",
    "                                   'forks_count',\n",
    "                                   'forks',\n",
    "                                   'open_issues',\n",
    "                                   'watchers',\n",
    "                                   'commits',\n",
    "                                   'contributors',\n",
    "                                   'readme',])\n",
    "resultados.head()"
   ]
  },
  {
   "cell_type": "code",
   "execution_count": 121,
   "metadata": {},
   "outputs": [],
   "source": [
    "def add_resultado(item):\n",
    "    df = pd.DataFrame([[item['owner']['type'],\n",
    "                        item['owner']['url'],\n",
    "                        item['owner']['html_url'],\n",
    "                        item['html_url'],\n",
    "                        item['url'],\n",
    "                        item['fork'],\n",
    "                        item['created_at'],\n",
    "                        item['updated_at'],\n",
    "                        item['size'],\n",
    "                        item['stargazers_count'],\n",
    "                        item['language'],\n",
    "                        item['has_issues'],\n",
    "                        item['has_wiki'],\n",
    "                        item['forks_count'],\n",
    "                        item['forks'],\n",
    "                        item['open_issues'],\n",
    "                        item['watchers']]])\n",
    "\n",
    "    return df    "
   ]
  },
  {
   "cell_type": "code",
   "execution_count": null,
   "metadata": {
    "collapsed": true
   },
   "outputs": [],
   "source": [
    "['owner']['type']\n",
    "['owner']['url']\n",
    "['owner']['html_url']\n",
    "['html_url']\n",
    "['url']\n",
    "['fork']\n",
    "['created_at']\n",
    "['updated_at']\n",
    "['size']\n",
    "['stargazers_count']\n",
    "['language']\n",
    "['has_issues']\n",
    "['has_wiki']\n",
    "['forks_count']\n",
    "['forks']\n",
    "['license']['key']\n",
    "['license']['name']\n",
    "['license']['url']\n",
    "['open_issues']\n",
    "['watchers']"
   ]
  },
  {
   "cell_type": "markdown",
   "metadata": {},
   "source": [
    "#### Alguns campos interessantes:\n",
    "\n",
    "name\n",
    "html_url\n",
    "description\n",
    "created_at\n",
    "updated_at\n",
    "pushed_at\n",
    "stargazers_count\n",
    "watchers_count\n",
    "language\n",
    "has_issues\n",
    "has_projects\n",
    "has_downloads\n",
    "has_wiki\n",
    "has_pages\n",
    "forks_count\n",
    "open_issues_count\n",
    "license\n",
    "forks\n",
    "open_issues\n",
    "watchers\n",
    "\n",
    "readme??"
   ]
  }
 ],
 "metadata": {
  "kernelspec": {
   "display_name": "Python 3",
   "language": "python",
   "name": "python3"
  },
  "language_info": {
   "codemirror_mode": {
    "name": "ipython",
    "version": 3
   },
   "file_extension": ".py",
   "mimetype": "text/x-python",
   "name": "python",
   "nbconvert_exporter": "python",
   "pygments_lexer": "ipython3",
   "version": "3.6.3"
  }
 },
 "nbformat": 4,
 "nbformat_minor": 2
}
